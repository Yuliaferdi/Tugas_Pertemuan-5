{
 "cells": [
  {
   "cell_type": "markdown",
   "id": "772e2882",
   "metadata": {},
   "source": [
    "# Latihan Looping"
   ]
  },
  {
   "cell_type": "markdown",
   "id": "d33c156b",
   "metadata": {},
   "source": [
    "1. Buatlah program yang meminta masukan user sebuah bilangan bulat N dimana (N> 0). Program kemudian menampilkan penjumlahan N bilangan genap positif pertama (bilangan genap ≥ 0). Contoh:\n",
    "*   Jika user memasukkan N = 3, maka outputnya: 0 + 2 + 4 = 6\n",
    "*   Jika user memasukkan N = 5, maka outputnya: 0 + 2 + 4 + 6 + 8 = 20"
   ]
  },
  {
   "cell_type": "code",
   "execution_count": 7,
   "id": "a0189c8a",
   "metadata": {},
   "outputs": [
    {
     "name": "stdout",
     "output_type": "stream",
     "text": [
      "Masukkan N: 3\n",
      "Deret Bilangan Bulat:\n",
      "0\n",
      "2\n",
      "4\n",
      "Hasil penjumlahan deret bilangan bulat:  6\n"
     ]
    }
   ],
   "source": [
    "i=1 \n",
    "jum=0\n",
    "m=0\n",
    "\n",
    "N = int(input('Masukkan N: '))\n",
    "print('Deret Bilangan Bulat:')\n",
    "\n",
    "while True:\n",
    "    jum += m\n",
    "    print(m)\n",
    "    m += 2\n",
    "    i = i+1\n",
    "    if i > N:\n",
    "        break\n",
    "print('Hasil penjumlahan deret bilangan bulat: ',jum)"
   ]
  },
  {
   "cell_type": "code",
   "execution_count": 8,
   "id": "9038c47d",
   "metadata": {},
   "outputs": [
    {
     "name": "stdout",
     "output_type": "stream",
     "text": [
      "Masukkan N: 5\n",
      "Deret Bilangan Bulat:\n",
      "0\n",
      "2\n",
      "4\n",
      "6\n",
      "8\n",
      "Hasil penjumlahan deret bilangan bulat:  20\n"
     ]
    }
   ],
   "source": [
    "i=1\n",
    "jum=0\n",
    "m=0\n",
    "\n",
    "N = int(input('Masukkan N: '))\n",
    "print('Deret Bilangan Bulat:')\n",
    "\n",
    "while True:\n",
    "    jum += m\n",
    "    print(m)\n",
    "    m += 2\n",
    "    i = i+1\n",
    "    if i > N:\n",
    "        break\n",
    "print('Hasil penjumlahan deret bilangan bulat: ',jum)"
   ]
  },
  {
   "cell_type": "markdown",
   "id": "7ffc9687",
   "metadata": {},
   "source": [
    "2. Buatlah sebuah program yang meminta masukan user sebuah bilangan bulat N dimana (N > 0). Kemudian, program menampilkan penjumlahan N bilangan kuadrat pertama. Bilangan kuadrat adalah = 1, 4, 9, 16, 25, 36, ...., N2. Contoh:\n",
    "*   Jika user memasukkan N = 2, maka outputnya: 1 + 4 = 5\n",
    "*   Jika user memasukkan N = 3, maka outputnya: 1 + 4 + 9 = 14"
   ]
  },
  {
   "cell_type": "code",
   "execution_count": 1,
   "id": "72cf670d",
   "metadata": {},
   "outputs": [
    {
     "name": "stdout",
     "output_type": "stream",
     "text": [
      "Masukkan N: 2\n",
      "Deret Bilangan Kuadrat:\n",
      "1 4 Hasil penjumlahan deret kuadrat:  5\n"
     ]
    }
   ],
   "source": [
    "i, N, jum=1, 0, 0\n",
    "N = int(input('Masukkan N: '))\n",
    "print('Deret Bilangan Kuadrat:')\n",
    "\n",
    "while True:\n",
    "    jum += i*i\n",
    "    print(i*i, end=' ')\n",
    "    i +=1\n",
    "    if i > N:\n",
    "        break\n",
    "print('Hasil penjumlahan deret kuadrat: ',jum)"
   ]
  },
  {
   "cell_type": "code",
   "execution_count": 2,
   "id": "300c2e0d",
   "metadata": {},
   "outputs": [
    {
     "name": "stdout",
     "output_type": "stream",
     "text": [
      "Masukkan N: 3\n",
      "Deret Bilangan Kuadrat:\n",
      "1 4 9 Hasil penjumlahan deret kuadrat:  14\n"
     ]
    }
   ],
   "source": [
    "i, N, jum=1, 0, 0\n",
    "N = int(input('Masukkan N: '))\n",
    "print('Deret Bilangan Kuadrat:')\n",
    "\n",
    "while True:\n",
    "    jum += i*i\n",
    "    print(i*i, end=' ')\n",
    "    i +=1\n",
    "    if i > N:\n",
    "        break\n",
    "print('Hasil penjumlahan deret kuadrat: ',jum)"
   ]
  },
  {
   "cell_type": "markdown",
   "id": "8da54e70",
   "metadata": {},
   "source": [
    "3. Buatlah sebuah program yang meminta masukan user sebuah bilangan bulat N dimana (N > 0). Program kemudian memeriksa setiap digit yang ada di angka tersebut, dan menampilkan berapa jumlah digit yang ganjil dari bilangan N tersebut.\n",
    "*   Jika user memasukkan N = 2345, jumlah digit yang ganjil = 2\n",
    "*   Jika user memasukkan N = 993312, jumlah digit yang ganjil = 5"
   ]
  },
  {
   "cell_type": "code",
   "execution_count": 4,
   "id": "03a2ba7f",
   "metadata": {},
   "outputs": [
    {
     "name": "stdout",
     "output_type": "stream",
     "text": [
      "Masukkan N : 2345\n",
      "Jumlah digit yang ganjil:  2 yaitu:  35\n"
     ]
    }
   ],
   "source": [
    "N = input('Masukkan N : ')\n",
    "ganjil=0\n",
    "g=''\n",
    "for i in N:\n",
    "    if i in '13579':\n",
    "        ganjil += 1\n",
    "        g =g+i+''\n",
    "print('Jumlah digit yang ganjil: ',ganjil,'yaitu: ',g)"
   ]
  },
  {
   "cell_type": "code",
   "execution_count": 5,
   "id": "ce06d1a6",
   "metadata": {},
   "outputs": [
    {
     "name": "stdout",
     "output_type": "stream",
     "text": [
      "Masukkan N : 993312\n",
      "Jumlah digit yang ganjil:  5 yaitu:  99331\n"
     ]
    }
   ],
   "source": [
    "N = input('Masukkan N : ')\n",
    "ganjil=0\n",
    "g=''\n",
    "for i in N:\n",
    "    if i in '13579':\n",
    "        ganjil += 1\n",
    "        g =g+i+''\n",
    "print('Jumlah digit yang ganjil: ',ganjil,'yaitu: ',g)"
   ]
  },
  {
   "cell_type": "markdown",
   "id": "6c4f1de1",
   "metadata": {},
   "source": [
    "# Latihan Matplotlib"
   ]
  },
  {
   "cell_type": "code",
   "execution_count": 16,
   "id": "f71ebf0e",
   "metadata": {},
   "outputs": [
    {
     "data": {
      "image/png": "[encoded data removed]",
      "text/plain": [
       "<Figure size 432x288 with 1 Axes>"
      ]
     },
     "metadata": {
      "needs_background": "light"
     },
     "output_type": "display_data"
    },
    {
     "data": {
      "text/plain": [
       "<Figure size 432x288 with 0 Axes>"
      ]
     },
     "metadata": {},
     "output_type": "display_data"
    }
   ],
   "source": [
    "import matplotlib.pyplot as plt\n",
    "fig = plt.figure()\n",
    "ax = fig.add_axes([0,0,1,1])\n",
    "\n",
    "MataKuliah = ['Matematika', 'Fisika', 'Bahasa Indonesia', 'Bahasa Inggris']\n",
    "Nilai = [80,90,79,82]\n",
    "\n",
    "ax.bar(MataKuliah,Nilai)\n",
    "ax.set_xlabel('Matakuliah')\n",
    "ax.set_ylabel('Nilai')\n",
    "ax.set_title('Nilai UN')\n",
    "\n",
    "plt.show()\n",
    "plt.savefig('foo.png')"
   ]
  }
 ],
 "metadata": {
  "kernelspec": {
   "display_name": "Python 3 (ipykernel)",
   "language": "python",
   "name": "python3"
  },
  "language_info": {
   "codemirror_mode": {
    "name": "ipython",
    "version": 3
   },
   "file_extension": ".py",
   "mimetype": "text/x-python",
   "name": "python",
   "nbconvert_exporter": "python",
   "pygments_lexer": "ipython3",
   "version": "3.9.7"
  }
 },
 "nbformat": 4,
 "nbformat_minor": 5
}
